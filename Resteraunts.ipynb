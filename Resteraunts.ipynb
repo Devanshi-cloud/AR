{
  "nbformat": 4,
  "nbformat_minor": 0,
  "metadata": {
    "colab": {
      "provenance": [],
      "authorship_tag": "ABX9TyObLoNs8BsLqTkJeCVD5uqd",
      "include_colab_link": true
    },
    "kernelspec": {
      "name": "python3",
      "display_name": "Python 3"
    },
    "language_info": {
      "name": "python"
    }
  },
  "cells": [
    {
      "cell_type": "markdown",
      "metadata": {
        "id": "view-in-github",
        "colab_type": "text"
      },
      "source": [
        "<a href=\"https://colab.research.google.com/github/Devanshi-cloud/AR/blob/main/Resteraunts.ipynb\" target=\"_parent\"><img src=\"https://colab.research.google.com/assets/colab-badge.svg\" alt=\"Open In Colab\"/></a>"
      ]
    },
    {
      "cell_type": "code",
      "execution_count": 1,
      "metadata": {
        "colab": {
          "base_uri": "https://localhost:8080/"
        },
        "id": "tOdTzbHSJaa5",
        "outputId": "23ca0b35-c191-4810-cc01-77c71a526909"
      },
      "outputs": [
        {
          "output_type": "stream",
          "name": "stdout",
          "text": [
            "\u001b[?25l   \u001b[90m━━━━━━━━━━━━━━━━━━━━━━━━━━━━━━━━━━━━━━━━\u001b[0m \u001b[32m0.0/381.7 kB\u001b[0m \u001b[31m?\u001b[0m eta \u001b[36m-:--:--\u001b[0m\r\u001b[2K   \u001b[91m━━━━━━━━━━━━━━━━━━━━━━━━━━━━━━━\u001b[0m\u001b[90m╺\u001b[0m\u001b[90m━━━━━━━━\u001b[0m \u001b[32m297.0/381.7 kB\u001b[0m \u001b[31m9.6 MB/s\u001b[0m eta \u001b[36m0:00:01\u001b[0m\r\u001b[2K   \u001b[90m━━━━━━━━━━━━━━━━━━━━━━━━━━━━━━━━━━━━━━━━\u001b[0m \u001b[32m381.7/381.7 kB\u001b[0m \u001b[31m7.2 MB/s\u001b[0m eta \u001b[36m0:00:00\u001b[0m\n",
            "\u001b[2K   \u001b[90m━━━━━━━━━━━━━━━━━━━━━━━━━━━━━━━━━━━━━━━━\u001b[0m \u001b[32m118.4/118.4 kB\u001b[0m \u001b[31m5.8 MB/s\u001b[0m eta \u001b[36m0:00:00\u001b[0m\n",
            "\u001b[2K   \u001b[90m━━━━━━━━━━━━━━━━━━━━━━━━━━━━━━━━━━━━━━━━\u001b[0m \u001b[32m739.1/739.1 kB\u001b[0m \u001b[31m17.2 MB/s\u001b[0m eta \u001b[36m0:00:00\u001b[0m\n",
            "\u001b[?25h"
          ]
        }
      ],
      "source": [
        "!pip install julep -U --quiet"
      ]
    },
    {
      "cell_type": "code",
      "source": [
        "import uuid\n",
        "\n",
        "AGENT_UUID = uuid.uuid4()\n",
        "TASK_UUID = uuid.uuid4()"
      ],
      "metadata": {
        "id": "tn2gJ5MmcfDV"
      },
      "execution_count": 2,
      "outputs": []
    },
    {
      "cell_type": "code",
      "execution_count": 7,
      "metadata": {
        "id": "9e5WBkBFCDVa"
      },
      "outputs": [],
      "source": [
        "from julep import Client\n",
        "from google.colab import userdata\n",
        "\n",
        "# Get the secret from Colab's secrets storage\n",
        "JULEP_API_KEY = userdata.get('JULEP_API_KEY')\n",
        "\n",
        "# Create the client\n",
        "client = Client(api_key=JULEP_API_KEY, environment=\"production\")\n"
      ]
    },
    {
      "cell_type": "code",
      "source": [
        "# Defining the agent\n",
        "name = \"Jacob\"\n",
        "about = \"A travel assistant that checks today's weather and suggests indoor or outdoor dining.\"\n",
        "\n",
        "# Create the agent\n",
        "agent = client.agents.create_or_update(\n",
        "    agent_id=AGENT_UUID,\n",
        "    name=name,\n",
        "    about=about,\n",
        "    model=\"gpt-4o\",\n",
        ")"
      ],
      "metadata": {
        "id": "h3H_mZfpeg0F"
      },
      "execution_count": 36,
      "outputs": []
    },
    {
      "cell_type": "code",
      "source": [
        "!pip install tavily-python"
      ],
      "metadata": {
        "colab": {
          "base_uri": "https://localhost:8080/"
        },
        "id": "j8f3rWGxgFU0",
        "outputId": "451ffe01-9756-4846-f860-0c74ed329e54"
      },
      "execution_count": 11,
      "outputs": [
        {
          "output_type": "stream",
          "name": "stdout",
          "text": [
            "Collecting tavily-python\n",
            "  Downloading tavily_python-0.7.4-py3-none-any.whl.metadata (7.5 kB)\n",
            "Requirement already satisfied: requests in /usr/local/lib/python3.11/dist-packages (from tavily-python) (2.32.3)\n",
            "Requirement already satisfied: tiktoken>=0.5.1 in /usr/local/lib/python3.11/dist-packages (from tavily-python) (0.9.0)\n",
            "Requirement already satisfied: httpx in /usr/local/lib/python3.11/dist-packages (from tavily-python) (0.28.1)\n",
            "Requirement already satisfied: regex>=2022.1.18 in /usr/local/lib/python3.11/dist-packages (from tiktoken>=0.5.1->tavily-python) (2024.11.6)\n",
            "Requirement already satisfied: charset-normalizer<4,>=2 in /usr/local/lib/python3.11/dist-packages (from requests->tavily-python) (3.4.2)\n",
            "Requirement already satisfied: idna<4,>=2.5 in /usr/local/lib/python3.11/dist-packages (from requests->tavily-python) (3.10)\n",
            "Requirement already satisfied: urllib3<3,>=1.21.1 in /usr/local/lib/python3.11/dist-packages (from requests->tavily-python) (2.4.0)\n",
            "Requirement already satisfied: certifi>=2017.4.17 in /usr/local/lib/python3.11/dist-packages (from requests->tavily-python) (2025.4.26)\n",
            "Requirement already satisfied: anyio in /usr/local/lib/python3.11/dist-packages (from httpx->tavily-python) (4.9.0)\n",
            "Requirement already satisfied: httpcore==1.* in /usr/local/lib/python3.11/dist-packages (from httpx->tavily-python) (1.0.9)\n",
            "Requirement already satisfied: h11>=0.16 in /usr/local/lib/python3.11/dist-packages (from httpcore==1.*->httpx->tavily-python) (0.16.0)\n",
            "Requirement already satisfied: sniffio>=1.1 in /usr/local/lib/python3.11/dist-packages (from anyio->httpx->tavily-python) (1.3.1)\n",
            "Requirement already satisfied: typing_extensions>=4.5 in /usr/local/lib/python3.11/dist-packages (from anyio->httpx->tavily-python) (4.13.2)\n",
            "Downloading tavily_python-0.7.4-py3-none-any.whl (15 kB)\n",
            "Installing collected packages: tavily-python\n",
            "Successfully installed tavily-python-0.7.4\n"
          ]
        }
      ]
    },
    {
      "cell_type": "code",
      "source": [
        "import requests\n",
        "from google.colab import userdata\n",
        "\n",
        "tavily_api_key = userdata.get('tavily_api_key')\n",
        "headers = {\"Authorization\": f\"Bearer {tavily_api_key}\"}\n",
        "\n",
        "def search_tavily(query):\n",
        "    response = requests.post(\n",
        "        \"https://api.tavily.com/search\",\n",
        "        headers=headers,\n",
        "        json={\"query\": query, \"search_depth\": \"basic\"}\n",
        "    )\n",
        "    result = response.json()\n",
        "    print(f\"Query: {query}\")\n",
        "    print(\"Tavily raw response:\", result)\n",
        "    return result\n",
        "\n"
      ],
      "metadata": {
        "id": "oNpn_HhCr4ws"
      },
      "execution_count": 21,
      "outputs": []
    },
    {
      "cell_type": "code",
      "source": [
        "def get_iconic_dishes(city):\n",
        "    query = f\"3 iconic dishes of {city}\"\n",
        "    response = search_tavily(query)\n",
        "\n",
        "    # Extract the 'results' list safely\n",
        "    results = response.get('results', [])\n",
        "\n",
        "    # Return the first 3 dishes or less if fewer results\n",
        "    return results[:3]\n",
        "\n",
        "# Example usage:\n",
        "city = \"Delhi\"\n",
        "dishes = get_iconic_dishes(city)\n",
        "print(dishes)  # Should print something like ['Dish1', 'Dish2', 'Dish3']\n"
      ],
      "metadata": {
        "colab": {
          "base_uri": "https://localhost:8080/"
        },
        "id": "MQMsu9zYt00Q",
        "outputId": "7b798eb9-0de2-4271-c3d3-fa8c438ce098"
      },
      "execution_count": 24,
      "outputs": [
        {
          "output_type": "stream",
          "name": "stdout",
          "text": [
            "Query: 3 iconic dishes of Delhi\n",
            "Tavily raw response: {'query': '3 iconic dishes of Delhi', 'follow_up_questions': None, 'answer': None, 'images': [], 'results': [{'title': 'Discovering Delhi: Top 10 Famous And Iconic Dishes Of The ... - Slurrp', 'url': 'https://www.slurrp.com/article/discovering-delhi-top-10-famous-and-iconic-dishes-of-the-national-capital-1702045207141', 'content': \"Parathas in Delhi are so iconic that there is a whole street named after the dish in the Old Delhi area. If you haven't been to Parathe Wali Gali in Delhi and savoured the myriads of stuffed parathas and kuchas paired with raita, dahi and pickles, then your trip to the national capital is truly incomplete.\", 'score': 0.834852, 'raw_content': None}, {'title': 'Top 20 Famous Dishes of Delhi - Crazy Masala Food', 'url': 'https://www.crazymasalafood.com/top-20-famous-dishes-delhi/', 'content': 'This is another famous dish of Delhi, made for non- vegetarians. A must try dish for them. Vegetable salad or chopped onions with plain rice or jeera rice served alongside with provide great taste. This is another tempting dish of Delhi. Fried fish is coated with garam masala and pepper, to give it a red texture and spice is added for taste.', 'score': 0.741169, 'raw_content': None}, {'title': 'The Most Popular Dishes in Delhi, India - Culture Trip', 'url': 'https://theculturetrip.com/asia/india/articles/the-most-popular-dishes-in-delhi-india', 'content': \"From pocket-friendly variations of these famous food options to splurging in fine dining hall posh portions, Delhi's romance with these dishes doesn't discriminate. ... The popular Delhi dish comes in a number of flavors these days including rose, paan, and more, but the traditional kesar pista (saffron and nuts) remains on the top. Savored\", 'score': 0.6932451, 'raw_content': None}, {'title': 'Famous food in Delhi: 6 iconic eats and where to find them | Condé Nast ...', 'url': 'https://www.cntraveller.in/story/famous-food-in-delhi/', 'content': \"The crunch of a crispy puri, the heat of chutney, the sweetness of yoghurt… there's an unspeakable satisfaction that comes from eating the most famous food in Delhi.The capital city is also the gastronomical capital of India, famous for its street food and diversity of cuisines. Guided by local experts, this guide will help you explore these culinary gems by leading you to the best spots\", 'score': 0.6533265, 'raw_content': None}, {'title': 'Famous Food of Delhi | 11 Must-Try Dishes - Take Off With Me', 'url': 'https://takeoffwithme.com/famous-food-of-delhi/', 'content': 'Kathi Rolls 5) Rolls. Kolkata is the birthplace of Kathi Rolls, but Delhi has come up with some delicious vegetarian and non-vegetarian variations. Many Delhi-based eateries and street vendors specialize in signature rolls with a wide range of fillings such as veggie rolls, chicken rolls, paneer rolls, etc. Roll is a multilayer paratha wrap with grilled kebabs, shredded vegetables, and green', 'score': 0.60245985, 'raw_content': None}], 'response_time': 1.19}\n",
            "[{'title': 'Discovering Delhi: Top 10 Famous And Iconic Dishes Of The ... - Slurrp', 'url': 'https://www.slurrp.com/article/discovering-delhi-top-10-famous-and-iconic-dishes-of-the-national-capital-1702045207141', 'content': \"Parathas in Delhi are so iconic that there is a whole street named after the dish in the Old Delhi area. If you haven't been to Parathe Wali Gali in Delhi and savoured the myriads of stuffed parathas and kuchas paired with raita, dahi and pickles, then your trip to the national capital is truly incomplete.\", 'score': 0.834852, 'raw_content': None}, {'title': 'Top 20 Famous Dishes of Delhi - Crazy Masala Food', 'url': 'https://www.crazymasalafood.com/top-20-famous-dishes-delhi/', 'content': 'This is another famous dish of Delhi, made for non- vegetarians. A must try dish for them. Vegetable salad or chopped onions with plain rice or jeera rice served alongside with provide great taste. This is another tempting dish of Delhi. Fried fish is coated with garam masala and pepper, to give it a red texture and spice is added for taste.', 'score': 0.741169, 'raw_content': None}, {'title': 'The Most Popular Dishes in Delhi, India - Culture Trip', 'url': 'https://theculturetrip.com/asia/india/articles/the-most-popular-dishes-in-delhi-india', 'content': \"From pocket-friendly variations of these famous food options to splurging in fine dining hall posh portions, Delhi's romance with these dishes doesn't discriminate. ... The popular Delhi dish comes in a number of flavors these days including rose, paan, and more, but the traditional kesar pista (saffron and nuts) remains on the top. Savored\", 'score': 0.6932451, 'raw_content': None}]\n"
          ]
        }
      ]
    },
    {
      "cell_type": "code",
      "source": [],
      "metadata": {
        "id": "Ncz9snaC2Vx7"
      },
      "execution_count": null,
      "outputs": []
    },
    {
      "cell_type": "code",
      "source": [
        "import yaml\n",
        "from google.colab import userdata\n",
        "\n",
        "openweathermap_api_key = userdata.get(\"openweathermap_api_key\")\n",
        "\n",
        "# Defining the task\n",
        "# This task expects pre-fetched weather, dishes, and restaurant data per city\n",
        "\n",
        "task_def = yaml.safe_load(f'''\n",
        "# yaml-language-server: $schema=https://raw.githubusercontent.com/julep-ai/julep/refs/heads/dev/schemas/create_task_request.json\n",
        "name: One-Day Foodie Tour Planner\n",
        "description: Creates a weather-based foodie tour with iconic dishes and top-rated restaurants.\n",
        "\n",
        "input_schema:\n",
        "  type: object\n",
        "  properties:\n",
        "    cities:\n",
        "      type: array\n",
        "      items:\n",
        "        type: object\n",
        "        properties:\n",
        "          city:\n",
        "            type: string\n",
        "          weather:\n",
        "            type: string\n",
        "          dining_type:\n",
        "            type: string\n",
        "          dishes:\n",
        "            type: array\n",
        "            items:\n",
        "              type: string\n",
        "          restaurants:\n",
        "            type: array\n",
        "            items:\n",
        "              type: string\n",
        "      description: List of city data with weather, dining type, dishes, and restaurants.\n",
        "\n",
        "tools: []\n",
        "\n",
        "main:\n",
        "# Step: Create the foodie itinerary per city\n",
        "- over: $ steps[0].input.cities\n",
        "  map:\n",
        "    prompt:\n",
        "    - role: system\n",
        "      content: >-\n",
        "        You are a gourmet trip planner. Create a one-day foodie itinerary in the given city.\n",
        "        Use weather to recommend indoor or outdoor dining and include breakfast, lunch, and dinner\n",
        "        with the iconic dishes and top restaurant names.\n",
        "    - role: user\n",
        "      content: >-\n",
        "        City: {{_.city}}\n",
        "        Weather: {{_.weather}}\n",
        "        Dining Type: {{_.dining_type}}\n",
        "        Dishes: {{_.dishes}}\n",
        "        Restaurants: {{_.restaurants}}\n",
        "    unwrap: true\n",
        "\n",
        "# Step: Final Compilation\n",
        "- evaluate:\n",
        "    foodie_tours: |-\n",
        "      $ '\\\\n\\\\n======\\\\n\\\\n'.join(tour for tour in _)\n",
        "''')\n"
      ],
      "metadata": {
        "id": "MJChXdBEfA55"
      },
      "execution_count": 41,
      "outputs": []
    },
    {
      "cell_type": "code",
      "source": [
        "# creating the task object\n",
        "task = client.tasks.create_or_update(\n",
        "    task_id=TASK_UUID,\n",
        "    agent_id=AGENT_UUID,\n",
        "    **task_def\n",
        ")"
      ],
      "metadata": {
        "id": "MYKSyXDrqMCQ"
      },
      "execution_count": 42,
      "outputs": []
    },
    {
      "cell_type": "code",
      "source": [
        "cities = [\"Delhi\", \"Mumbai\"]\n",
        "\n",
        "def get_city_data(city):\n",
        "    weather = \"Sunny\"  # or use your OpenWeather API result here\n",
        "    dishes = [res['title'] for res in search_tavily(f\"3 iconic dishes of {city}\")['results'][:3]]\n",
        "    restaurants = [res['title'] for res in search_tavily(f\"top-rated restaurants in {city} serving {', '.join(dishes)}\")['results'][:3]]\n",
        "    dining_type = \"outdoor\" if \"Sunny\" in weather else \"indoor\"\n",
        "\n",
        "    return {\n",
        "        \"city\": city,\n",
        "        \"weather\": weather,\n",
        "        \"dining_type\": dining_type,\n",
        "        \"dishes\": dishes,\n",
        "        \"restaurants\": restaurants\n",
        "    }\n",
        "\n",
        "city_data = [get_city_data(city) for city in cities]\n"
      ],
      "metadata": {
        "colab": {
          "base_uri": "https://localhost:8080/"
        },
        "id": "sVMjRVNm2gzU",
        "outputId": "c1494951-f5b0-4af7-b560-5ba8c0df1469"
      },
      "execution_count": 44,
      "outputs": [
        {
          "output_type": "stream",
          "name": "stdout",
          "text": [
            "Query: 3 iconic dishes of Delhi\n",
            "Tavily raw response: {'query': '3 iconic dishes of Delhi', 'follow_up_questions': None, 'answer': None, 'images': [], 'results': [{'title': 'Discovering Delhi: Top 10 Famous And Iconic Dishes Of The ... - Slurrp', 'url': 'https://www.slurrp.com/article/discovering-delhi-top-10-famous-and-iconic-dishes-of-the-national-capital-1702045207141', 'content': \"Parathas in Delhi are so iconic that there is a whole street named after the dish in the Old Delhi area. If you haven't been to Parathe Wali Gali in Delhi and savoured the myriads of stuffed parathas and kuchas paired with raita, dahi and pickles, then your trip to the national capital is truly incomplete.\", 'score': 0.834852, 'raw_content': None}, {'title': 'Top 20 Famous Dishes of Delhi - Crazy Masala Food', 'url': 'https://www.crazymasalafood.com/top-20-famous-dishes-delhi/', 'content': 'This is another famous dish of Delhi, made for non- vegetarians. A must try dish for them. Vegetable salad or chopped onions with plain rice or jeera rice served alongside with provide great taste. This is another tempting dish of Delhi. Fried fish is coated with garam masala and pepper, to give it a red texture and spice is added for taste.', 'score': 0.741169, 'raw_content': None}, {'title': 'The Most Popular Dishes in Delhi, India - Culture Trip', 'url': 'https://theculturetrip.com/asia/india/articles/the-most-popular-dishes-in-delhi-india', 'content': \"From pocket-friendly variations of these famous food options to splurging in fine dining hall posh portions, Delhi's romance with these dishes doesn't discriminate. ... The popular Delhi dish comes in a number of flavors these days including rose, paan, and more, but the traditional kesar pista (saffron and nuts) remains on the top. Savored\", 'score': 0.6932451, 'raw_content': None}, {'title': 'Famous food in Delhi: 6 iconic eats and where to find them | Condé Nast ...', 'url': 'https://www.cntraveller.in/story/famous-food-in-delhi/', 'content': \"The crunch of a crispy puri, the heat of chutney, the sweetness of yoghurt… there's an unspeakable satisfaction that comes from eating the most famous food in Delhi.The capital city is also the gastronomical capital of India, famous for its street food and diversity of cuisines. Guided by local experts, this guide will help you explore these culinary gems by leading you to the best spots\", 'score': 0.6533265, 'raw_content': None}, {'title': 'Famous Food of Delhi | 11 Must-Try Dishes - Take Off With Me', 'url': 'https://takeoffwithme.com/famous-food-of-delhi/', 'content': 'Kathi Rolls 5) Rolls. Kolkata is the birthplace of Kathi Rolls, but Delhi has come up with some delicious vegetarian and non-vegetarian variations. Many Delhi-based eateries and street vendors specialize in signature rolls with a wide range of fillings such as veggie rolls, chicken rolls, paneer rolls, etc. Roll is a multilayer paratha wrap with grilled kebabs, shredded vegetables, and green', 'score': 0.60245985, 'raw_content': None}], 'response_time': 1.06}\n",
            "Query: top-rated restaurants in Delhi serving Discovering Delhi: Top 10 Famous And Iconic Dishes Of The ... - Slurrp, Top 20 Famous Dishes of Delhi - Crazy Masala Food, The Most Popular Dishes in Delhi, India - Culture Trip\n",
            "Tavily raw response: {'query': 'top-rated restaurants in Delhi serving Discovering Delhi: Top 10 Famous And Iconic Dishes Of The ... - Slurrp, Top 20 Famous Dishes of Delhi - Crazy Masala Food, The Most Popular Dishes in Delhi, India - Culture Trip', 'follow_up_questions': None, 'answer': None, 'images': [], 'results': [{'title': '23 Most Famous Restaurants in Delhi Not to Miss 2025', 'url': 'https://suzannewandersdelhi.com/most-famous-restaurants-in-delhi-not-to-miss/', 'content': \"Named one of Asia's 50 Best Restaurants, Dum Pukht is famous for being one of Delhi's very best restaurants. Dum Pukht is famous for its biryani (image credit ITC Maurya) This is a fine dining restaurant that specializes in dum cooking, the method of slow cooking in a sealed pot.\", 'score': 0.8512743, 'raw_content': None}, {'title': '10 Must-Try Restaurants in Delhi in 2025 | Best Places to Eat in the ...', 'url': 'https://razorposts.com/2025/05/08/10-must-try-restaurants-in-delhi-this-year/', 'content': \"In 2025, the city continues to impress with innovative restaurant openings and the timeless charm of iconic eateries. Whether you're craving modern fusion, authentic Indian, global cuisines, or street-style comfort food served with flair, here are 10 must-try restaurants in Delhi that should be on your radar this year. Indian Accent - The Lodhi\", 'score': 0.82492816, 'raw_content': None}, {'title': 'The 38 Best Restaurants in New Delhi, India - Eater', 'url': 'https://www.eater.com/maps/best-restaurants-new-delhi-india', 'content': \"New to the map in March 2025: Gulati, a popular Punjabi dhaba that nails the classics; Fujiya, an old-timey banquet style Punjabi Chinese restaurant in an upscale neighborhood; Delhi's first\", 'score': 0.77446437, 'raw_content': None}, {'title': \"Top 10 Restaurants in Delhi - A Food Lover's Guide (2025 Edition)\", 'url': 'https://justbaazaar.com/top-10-restaurants-in-delhi/', 'content': '1️⃣ Indian Accent - The Pinnacle of Modern Indian Cuisine. 📍 Location: The Lodhi, Lodhi Road ⭐ Rating: 4.9/5 ⏰ Timings: 12:00 PM - 3:00 PM, 7:00 PM - 10:30 PM. Why Visit? Award-Winning Chef - Run by Chef Manish Mehrotra, redefining Indian flavors.Award-Winning Chef - Run by Chef Manish Mehrotra, redefining Indian flavors.', 'score': 0.7382357, 'raw_content': None}, {'title': \"21 Iconic Food Joints You Simply Can't Afford to Miss\", 'url': 'https://food.ndtv.com/food-drinks/21-iconic-food-joints-you-must-try-in-delhi-2409125', 'content': 'With a similar old-school vibe of other iconic restaurants in the heart of Delhi, Minar serves one of the most amazing fish tikkas, kebabs, dal tadka and kadhai chicken in town! Where: L-11, Outer Circle, Connaught Place, New Delhi 17. Havemore. Talk of best butter chicken in Delhi and chances are everyone would vote for Havemore in Pandara Road.', 'score': 0.7154444, 'raw_content': None}], 'response_time': 5.04}\n",
            "Query: 3 iconic dishes of Mumbai\n",
            "Tavily raw response: {'query': '3 iconic dishes of Mumbai', 'follow_up_questions': None, 'answer': None, 'images': [], 'results': [{'title': 'Famous food in Mumbai (and where to eat them) - Condé Nast Traveller India', 'url': 'https://www.cntraveller.in/story/famous-food-in-mumbai/', 'content': \"The monsoon brings with it the urge to enjoy some of the most famous food in Mumbai, from crispy vada pav to airy sabudana vadas. Guided by local experts, this list will help you explore Mumbai's culinary treasures by leading you to the best spots for the city's most beloved foods. Here are Mumbai's most popular dishes and where to try them:\", 'score': 0.7343678, 'raw_content': None}, {'title': '76 Best Mumbaikar Foods - TasteAtlas', 'url': 'https://www.tasteatlas.com/best-dishes-in-mumbai', 'content': \"Vada pav is one of Mumbai's favorite sandwiches, its name referring to the key ingredients: vada, or spicy mashed potatoes that are deep-fried in chickpea batter, and pav, or white bread rolls.This iconic street food is said to have originated from a street vendor named Ashok Vaidya, who worked near the Dadar train station in the 1960s and 1970s.\", 'score': 0.7334523, 'raw_content': None}, {'title': '10 Local Dishes in Mumbai You Need to Bite Into - NDTV Food', 'url': 'https://food.ndtv.com/lists/10-local-dishes-in-mumbai-you-need-to-bite-into-1436278', 'content': \"5. Bombil. The Bombil (Bombay duck) swims in the waters near Mumbai and is one of Mumbai's most popular fish (which sadly means that it is fast being fished into extinction).Mostly served in its crisp, batter-fried avatar at Gomantak or Malvani restaurants, it is also a fish beloved of the Parsis, and Britannia serves a cracking version of it.Or you could try the dried versions, crackling them\", 'score': 0.6824261, 'raw_content': None}, {'title': '9 Famous Mumbai Foods You Have to Try - From Here to India', 'url': 'https://fromheretoindia.com/mumbai-foods/', 'content': \"Thalipeeth is not as commonly found as a street like the other famous Mumbai foods. You'll find thalipeeth in small, local Marathi food joints. Expect to pay 60-100 rupees (70 cents - $1.20 USD). It's a great option for breakfast or as a snack! #6 Puran Poli. Puran poli is a delicious Mumbai food!\", 'score': 0.64236575, 'raw_content': None}, {'title': 'Mumbai food: 40 dishes you must try | CNN', 'url': 'https://www.cnn.com/travel/article/mumbai-food-dishes/index.html', 'content': \"The best butter garlic crab can be found at Mumbai's most famous seafood restaurant. Trishna, Sai Baba Marg, Near Rhythm House, Kala Ghoda, Fort, +91 80590 02601. 19.\", 'score': 0.46162403, 'raw_content': None}], 'response_time': 2.18}\n",
            "Query: top-rated restaurants in Mumbai serving Famous food in Mumbai (and where to eat them) - Condé Nast Traveller India, 76 Best Mumbaikar Foods - TasteAtlas, 10 Local Dishes in Mumbai You Need to Bite Into - NDTV Food\n",
            "Tavily raw response: {'query': 'top-rated restaurants in Mumbai serving Famous food in Mumbai (and where to eat them) - Condé Nast Traveller India, 76 Best Mumbaikar Foods - TasteAtlas, 10 Local Dishes in Mumbai You Need to Bite Into - NDTV Food', 'follow_up_questions': None, 'answer': None, 'images': [], 'results': [{'title': 'THE 10 BEST Restaurants in Mumbai (Updated June 2025) - Tripadvisor', 'url': 'https://www.tripadvisor.in/Restaurants-g304554-Mumbai_Maharashtra.html', 'content': 'Dining in Mumbai, Maharashtra: See 1,99,531 Tripadvisor traveller reviews of 11,356 Mumbai restaurants and search by cuisine, price, location, and more. Skip to main content. Discover. ... we decided to order bombil fry (bombay duck), fish..... and coriander curry is lip smacking. 2024. 6 ... ,spicy pani puri and staff was good... Reserve. 23', 'score': 0.78294516, 'raw_content': None}, {'title': 'These are the 12 best restaurants in Mumbai right now', 'url': 'https://www.cntraveller.in/story/these-are-the-12-best-restaurants-in-mumbai-right-now-top-restaurant-awards/', 'content': 'The menu at The Bombay Canteen changes seasonally, but favourites include the restaurant\\'s signature eggs Kejriwal, ghee roast chicken seekh and chilled seabass \"sev puri\". Its playful approach to food and affinity for Mumbai extends to its bar menu, with its 5th Canteen Cocktail Book featuring drinks like the tequila-based Waiting List', 'score': 0.74541736, 'raw_content': None}, {'title': 'The 38 Best Restaurants in Mumbai', 'url': 'https://www.eater.com/maps/best-mumbai-restaurants', 'content': 'The best food in Mumbai (Bombay), including Maharashtrian cuisine, Irani chai cafes, vegetarian thalis, street food classics like vada pav and other chaat, and the best meals in south Mumbai', 'score': 0.72605723, 'raw_content': None}, {'title': \"Mumbai's Top Restaurants: A Foodie's Culinary Adventure - Agoda\", 'url': 'https://www.agoda.com/travel-guides/india/mumbai/mumbais-top-restaurants-a-foodies-culinary-adventure/', 'content': \"Prepare your taste buds for a whirlwind of flavors! Some of the must-try street food items include: Pav Bhaji: A spicy vegetable mash served with buttered bread rolls. Vada Pav: Often referred to as Mumbai's burger, this is a spicy potato fritter sandwiched in a bun. Sev Puri: Crispy puris topped with tangy chutneys, potatoes, and crunchy sev.\", 'score': 0.69968605, 'raw_content': None}, {'title': 'The 26 Best Restaurants In Mumbai - The Infatuation', 'url': 'https://www.theinfatuation.com/mumbai/guides/best-restaurants-mumbai', 'content': \"A guide to Mumbai's best restaurants will incite debate. Mumbaiites will passionately rep their favorite thali place, vada pav stall, and perfect pizza spot, and have an opinion on every new opening—this city has over 20 million people and over 85,000 restaurants, so, yes, there's plenty to talk about, and many places to eat.\", 'score': 0.6954834, 'raw_content': None}], 'response_time': 5.14}\n"
          ]
        }
      ]
    },
    {
      "cell_type": "code",
      "source": [
        "execution = client.executions.create(\n",
        "    task_id=task.id,\n",
        "    input={\n",
        "        \"cities\": city_data\n",
        "    }\n",
        ")\n"
      ],
      "metadata": {
        "id": "WiqmucZh2m4a"
      },
      "execution_count": 45,
      "outputs": []
    },
    {
      "cell_type": "code",
      "source": [
        "execution = client.executions.create(\n",
        "    task_id=task.id,\n",
        "    input={\n",
        "        \"cities\": city_data\n",
        "    }\n",
        ")\n",
        "\n",
        "print(\"Started an execution. Execution ID:\", execution.id)\n"
      ],
      "metadata": {
        "colab": {
          "base_uri": "https://localhost:8080/"
        },
        "id": "zIXPu83uwPi7",
        "outputId": "fc17985b-5459-47d7-d384-34543b2ad6ab"
      },
      "execution_count": 47,
      "outputs": [
        {
          "output_type": "stream",
          "name": "stdout",
          "text": [
            "Started an execution. Execution ID: 068417fc-935f-75cc-8000-2b9dae1c9bf4\n"
          ]
        }
      ]
    },
    {
      "cell_type": "code",
      "source": [],
      "metadata": {
        "id": "7zBO1pedxDzx"
      },
      "execution_count": 34,
      "outputs": []
    },
    {
      "cell_type": "code",
      "source": [
        "import time\n",
        "\n",
        "max_retries = 30  # e.g. max wait time 30*5=150 seconds\n",
        "retries = 0\n",
        "\n",
        "while retries < max_retries:\n",
        "    execution = client.executions.get(execution.id)\n",
        "    print(\"Execution status:\", execution.status)\n",
        "    if execution.status == \"succeeded\":\n",
        "        break\n",
        "    elif execution.status in [\"failed\", \"error\"]:\n",
        "        print(\"Execution failed with status:\", execution.status)\n",
        "        break\n",
        "    time.sleep(5)\n",
        "    retries += 1\n",
        "else:\n",
        "    print(\"Timeout reached waiting for execution.\")\n",
        "\n",
        "if execution.status == \"succeeded\":\n",
        "    if 'final_plan' in execution.output:\n",
        "        print(execution.output['final_plan'])\n",
        "    else:\n",
        "        print(execution.output)"
      ],
      "metadata": {
        "colab": {
          "base_uri": "https://localhost:8080/"
        },
        "id": "RIMQtc1wwc2s",
        "outputId": "bca5ed60-afaf-4e75-ffd5-b6c66ec0b895"
      },
      "execution_count": 48,
      "outputs": [
        {
          "output_type": "stream",
          "name": "stdout",
          "text": [
            "Execution status: succeeded\n",
            "{'foodie_tours': '**Delhi Gourmet Outdoor Foodie Itinerary**\\n\\n**Weather in Delhi: Sunny**  \\nEnjoy the beautiful sunny weather with alfresco dining options that let you bask in the vibrant Delhi atmosphere while savoring some of the city\\'s most iconic dishes. \\n\\n**Breakfast:**\\n\\n- **Restaurant**: **Indian Accent at The Lodhi** — Start your day at this elegant restaurant known for its inventive presentation of traditional Indian cuisine. Although primarily known for its fine dining, it offers a delightful breakfast on their outdoor terrace.\\n  \\n- **Dish**: Begin with a refreshing **Parsi Eggs** — a classic spicy scrambled eggs dish flavored with green chilies and cilantro, known for its burst of flavors.\\n\\n**Mid-Morning Activity:**\\n\\n- **Visit the India Gate and Enjoy the surrounding gardens**. It’s a perfect opportunity to walk off your breakfast while taking in one of Delhi\\'s historic landmarks.\\n\\n**Lunch:**\\n\\n- **Restaurant**: **Dilli Haat** — This open-air food plaza brings you an array of regional cuisines. Perfect for enjoying the sunny weather, Dilli Haat offers a variety of stalls that provide a taste tour across India\\'s states.\\n  \\n- **Dish**: Try the **Rajasthani Laal Maas** or **Naga Thali**. These dishes showcase different spice profiles, presenting an opportunity to explore the diverse flavors of Indian cuisine right under the sun.\\n\\n**Afternoon Activity:**\\n\\n- **Explore Humayun\\'s Tomb** or take a guided heritage walk in the Lodhi Gardens nearby. These are perfect spots to explore Delhi’s rich history and architecture under the pleasant sunshine.\\n\\n**Dinner:**\\n\\n- **Restaurant**: **Olive Bar & Kitchen** — Nestled in a historic British-colonial house with an enchanting courtyard, Olive Bar & Kitchen provides a romantic setting for an outdoor dining experience amidst fairy lights and elegant decor.\\n  \\n- **Dish**: Opt for the **Tandoori Octopus** or the **Lamb Kebabs with a twist**. The dishes here are crafted using authentic Indian flavors with a modern presentation. Pair your meal with some of their craft cocktails specially designed to complement the meal.\\n\\n**Evening Activity:**\\n\\n- **After Dinner Walk:** Stroll through the bustling **Hauz Khas Village**, known for its eclectic mix of art galleries, boutiques, and bars.\\n\\nConclude your day in Delhi by enjoying its vibrant nightlife or simply continue exploring charming outdoor places and gardens. This itinerary ensures you savor the best of Delhi\\'s cuisine while enjoying the delightful sunny weather in beautiful settings.\\n\\n======\\n\\n**Mumbai Foodie Itinerary: A Sunny Day of Culinary Delights**\\n\\nWelcome to Mumbai, where vibrant flavors and warm, sunny weather create the perfect ambiance for a day of outdoor dining. Get ready for a bespoke foodie adventure as you explore the iconic dishes of Mumbai.\\n\\n**Breakfast:**\\n\\n*Restaurant:* **Prakash Shakahari Upahaar Kendra**\\n*Dish:* Start your day with a classic Marathi breakfast staple, Misal Pav. This spicy, sprouted lentil curry topped with crunchy farsan is served with soft bread rolls.\\n*Location:* Dadar\\n*Experience:* Enjoy your breakfast in the buzzing atmosphere of Dadar, where locals gather to savor this fiery dish, perfect for the sunny morning.\\n\\n**Mid-Morning Activity:**\\n\\nTake a stroll through the iconic Crawford Market, a bustling historic market where you can learn about the fresh produce and spices that make Mumbai\\'s cuisine so vibrant.\\n\\n**Lunch:**\\n\\n*Restaurant:* **Britannia & Co. Cafe**\\n*Dish:* Indulge in the famous Berry Pulao, a dish that beautifully marries Iranian and Parsi culinary influences, topped with tart barberries and succulent meat (or opt for the vegetarian version).\\n*Location:* Ballard Estate\\n*Experience:* Dine al-fresco on the charming colonial verandah, enjoying the heritage charm as you savor this delectable treat.\\n\\n**Afternoon Snack:**\\n\\nTry the city\\'s most beloved street food, Vada Pav, at **Anand Stall** near Mithibai College. This spicy potato fritter served in a bread bun is Mumbai\\'s answer to the hamburger, but with a distinctive local twist.\\n\\n**Dinner:**\\n\\n*Restaurant:* **Gadda Da Vida, Novotel Mumbai Juhu Beach**\\n*Dish:* As the sun sets, treat yourself to a sensational seafood feast with Prawns Koliwada, a spicy fried prawn dish, alongside Tandoori Pomfret, celebrated for its flavorful spices.\\n*Location:* Juhu Beach\\n*Experience:* Dine with your toes in the sand and a view of the Arabian Sea, as you enjoy Mumbai\\'s coastal offerings in the open-air dining space.\\n\\n**Dessert:**\\n\\nConclude your day with a visit to **K. Rustom\\'s Ice Cream Parlour** on Marine Drive for a unique ice cream sandwich, a beloved Mumbai classic, perfect for a sweet finish to your outdoor dining adventure.\\n\\n**Evening Activity:**\\n\\nAfter dinner, take a leisurely walk along Marine Drive, known as the \"Queen\\'s Necklace,\" to bask in the cool sea breeze and vibrant city lights, rounding out your perfect day of food in sunny Mumbai.\\n\\nEnjoy your culinary trip through the flavors of Mumbai, rain kissed by sunshine!'}\n"
          ]
        }
      ]
    },
    {
      "cell_type": "code",
      "source": [
        "# Lists all the task steps that have been executed up to this point in time\n",
        "transitions = client.executions.transitions.list(execution_id=execution.id).items\n",
        "\n",
        "# Transitions are retrieved in reverse chronological order\n",
        "for transition in reversed(transitions):\n",
        "    print(\"Transition type: \", transition.type)\n",
        "    print(\"Transition output: \", transition.output)\n",
        "    print(\"-\"*50)"
      ],
      "metadata": {
        "colab": {
          "base_uri": "https://localhost:8080/"
        },
        "id": "kj3osB1-wtNb",
        "outputId": "f11dd0f0-833e-4d9d-bf8f-37ba27d7ccfd"
      },
      "execution_count": 49,
      "outputs": [
        {
          "output_type": "stream",
          "name": "stdout",
          "text": [
            "Transition type:  init\n",
            "Transition output:  {'cities': [{'city': 'Delhi', 'dishes': ['Discovering Delhi: Top 10 Famous And Iconic Dishes Of The ... - Slurrp', 'Top 20 Famous Dishes of Delhi - Crazy Masala Food', 'The Most Popular Dishes in Delhi, India - Culture Trip'], 'weather': 'Sunny', 'dining_type': 'outdoor', 'restaurants': ['23 Most Famous Restaurants in Delhi Not to Miss 2025', '10 Must-Try Restaurants in Delhi in 2025 | Best Places to Eat in the ...', 'The 38 Best Restaurants in New Delhi, India - Eater']}, {'city': 'Mumbai', 'dishes': ['Famous food in Mumbai (and where to eat them) - Condé Nast Traveller India', '76 Best Mumbaikar Foods - TasteAtlas', '10 Local Dishes in Mumbai You Need to Bite Into - NDTV Food'], 'weather': 'Sunny', 'dining_type': 'outdoor', 'restaurants': ['THE 10 BEST Restaurants in Mumbai (Updated June 2025) - Tripadvisor', 'These are the 12 best restaurants in Mumbai right now', 'The 38 Best Restaurants in Mumbai']}]}\n",
            "--------------------------------------------------\n",
            "Transition type:  init_branch\n",
            "Transition output:  {'city': 'Mumbai', 'dishes': ['Famous food in Mumbai (and where to eat them) - Condé Nast Traveller India', '76 Best Mumbaikar Foods - TasteAtlas', '10 Local Dishes in Mumbai You Need to Bite Into - NDTV Food'], 'weather': 'Sunny', 'dining_type': 'outdoor', 'restaurants': ['THE 10 BEST Restaurants in Mumbai (Updated June 2025) - Tripadvisor', 'These are the 12 best restaurants in Mumbai right now', 'The 38 Best Restaurants in Mumbai']}\n",
            "--------------------------------------------------\n",
            "Transition type:  init_branch\n",
            "Transition output:  {'city': 'Delhi', 'dishes': ['Discovering Delhi: Top 10 Famous And Iconic Dishes Of The ... - Slurrp', 'Top 20 Famous Dishes of Delhi - Crazy Masala Food', 'The Most Popular Dishes in Delhi, India - Culture Trip'], 'weather': 'Sunny', 'dining_type': 'outdoor', 'restaurants': ['23 Most Famous Restaurants in Delhi Not to Miss 2025', '10 Must-Try Restaurants in Delhi in 2025 | Best Places to Eat in the ...', 'The 38 Best Restaurants in New Delhi, India - Eater']}\n",
            "--------------------------------------------------\n",
            "Transition type:  finish_branch\n",
            "Transition output:  **Mumbai Foodie Itinerary: A Sunny Day of Culinary Delights**\n",
            "\n",
            "Welcome to Mumbai, where vibrant flavors and warm, sunny weather create the perfect ambiance for a day of outdoor dining. Get ready for a bespoke foodie adventure as you explore the iconic dishes of Mumbai.\n",
            "\n",
            "**Breakfast:**\n",
            "\n",
            "*Restaurant:* **Prakash Shakahari Upahaar Kendra**\n",
            "*Dish:* Start your day with a classic Marathi breakfast staple, Misal Pav. This spicy, sprouted lentil curry topped with crunchy farsan is served with soft bread rolls.\n",
            "*Location:* Dadar\n",
            "*Experience:* Enjoy your breakfast in the buzzing atmosphere of Dadar, where locals gather to savor this fiery dish, perfect for the sunny morning.\n",
            "\n",
            "**Mid-Morning Activity:**\n",
            "\n",
            "Take a stroll through the iconic Crawford Market, a bustling historic market where you can learn about the fresh produce and spices that make Mumbai's cuisine so vibrant.\n",
            "\n",
            "**Lunch:**\n",
            "\n",
            "*Restaurant:* **Britannia & Co. Cafe**\n",
            "*Dish:* Indulge in the famous Berry Pulao, a dish that beautifully marries Iranian and Parsi culinary influences, topped with tart barberries and succulent meat (or opt for the vegetarian version).\n",
            "*Location:* Ballard Estate\n",
            "*Experience:* Dine al-fresco on the charming colonial verandah, enjoying the heritage charm as you savor this delectable treat.\n",
            "\n",
            "**Afternoon Snack:**\n",
            "\n",
            "Try the city's most beloved street food, Vada Pav, at **Anand Stall** near Mithibai College. This spicy potato fritter served in a bread bun is Mumbai's answer to the hamburger, but with a distinctive local twist.\n",
            "\n",
            "**Dinner:**\n",
            "\n",
            "*Restaurant:* **Gadda Da Vida, Novotel Mumbai Juhu Beach**\n",
            "*Dish:* As the sun sets, treat yourself to a sensational seafood feast with Prawns Koliwada, a spicy fried prawn dish, alongside Tandoori Pomfret, celebrated for its flavorful spices.\n",
            "*Location:* Juhu Beach\n",
            "*Experience:* Dine with your toes in the sand and a view of the Arabian Sea, as you enjoy Mumbai's coastal offerings in the open-air dining space.\n",
            "\n",
            "**Dessert:**\n",
            "\n",
            "Conclude your day with a visit to **K. Rustom's Ice Cream Parlour** on Marine Drive for a unique ice cream sandwich, a beloved Mumbai classic, perfect for a sweet finish to your outdoor dining adventure.\n",
            "\n",
            "**Evening Activity:**\n",
            "\n",
            "After dinner, take a leisurely walk along Marine Drive, known as the \"Queen's Necklace,\" to bask in the cool sea breeze and vibrant city lights, rounding out your perfect day of food in sunny Mumbai.\n",
            "\n",
            "Enjoy your culinary trip through the flavors of Mumbai, rain kissed by sunshine!\n",
            "--------------------------------------------------\n",
            "Transition type:  finish_branch\n",
            "Transition output:  **Delhi Gourmet Outdoor Foodie Itinerary**\n",
            "\n",
            "**Weather in Delhi: Sunny**  \n",
            "Enjoy the beautiful sunny weather with alfresco dining options that let you bask in the vibrant Delhi atmosphere while savoring some of the city's most iconic dishes. \n",
            "\n",
            "**Breakfast:**\n",
            "\n",
            "- **Restaurant**: **Indian Accent at The Lodhi** — Start your day at this elegant restaurant known for its inventive presentation of traditional Indian cuisine. Although primarily known for its fine dining, it offers a delightful breakfast on their outdoor terrace.\n",
            "  \n",
            "- **Dish**: Begin with a refreshing **Parsi Eggs** — a classic spicy scrambled eggs dish flavored with green chilies and cilantro, known for its burst of flavors.\n",
            "\n",
            "**Mid-Morning Activity:**\n",
            "\n",
            "- **Visit the India Gate and Enjoy the surrounding gardens**. It’s a perfect opportunity to walk off your breakfast while taking in one of Delhi's historic landmarks.\n",
            "\n",
            "**Lunch:**\n",
            "\n",
            "- **Restaurant**: **Dilli Haat** — This open-air food plaza brings you an array of regional cuisines. Perfect for enjoying the sunny weather, Dilli Haat offers a variety of stalls that provide a taste tour across India's states.\n",
            "  \n",
            "- **Dish**: Try the **Rajasthani Laal Maas** or **Naga Thali**. These dishes showcase different spice profiles, presenting an opportunity to explore the diverse flavors of Indian cuisine right under the sun.\n",
            "\n",
            "**Afternoon Activity:**\n",
            "\n",
            "- **Explore Humayun's Tomb** or take a guided heritage walk in the Lodhi Gardens nearby. These are perfect spots to explore Delhi’s rich history and architecture under the pleasant sunshine.\n",
            "\n",
            "**Dinner:**\n",
            "\n",
            "- **Restaurant**: **Olive Bar & Kitchen** — Nestled in a historic British-colonial house with an enchanting courtyard, Olive Bar & Kitchen provides a romantic setting for an outdoor dining experience amidst fairy lights and elegant decor.\n",
            "  \n",
            "- **Dish**: Opt for the **Tandoori Octopus** or the **Lamb Kebabs with a twist**. The dishes here are crafted using authentic Indian flavors with a modern presentation. Pair your meal with some of their craft cocktails specially designed to complement the meal.\n",
            "\n",
            "**Evening Activity:**\n",
            "\n",
            "- **After Dinner Walk:** Stroll through the bustling **Hauz Khas Village**, known for its eclectic mix of art galleries, boutiques, and bars.\n",
            "\n",
            "Conclude your day in Delhi by enjoying its vibrant nightlife or simply continue exploring charming outdoor places and gardens. This itinerary ensures you savor the best of Delhi's cuisine while enjoying the delightful sunny weather in beautiful settings.\n",
            "--------------------------------------------------\n",
            "Transition type:  step\n",
            "Transition output:  [\"**Delhi Gourmet Outdoor Foodie Itinerary**\\n\\n**Weather in Delhi: Sunny**  \\nEnjoy the beautiful sunny weather with alfresco dining options that let you bask in the vibrant Delhi atmosphere while savoring some of the city's most iconic dishes. \\n\\n**Breakfast:**\\n\\n- **Restaurant**: **Indian Accent at The Lodhi** — Start your day at this elegant restaurant known for its inventive presentation of traditional Indian cuisine. Although primarily known for its fine dining, it offers a delightful breakfast on their outdoor terrace.\\n  \\n- **Dish**: Begin with a refreshing **Parsi Eggs** — a classic spicy scrambled eggs dish flavored with green chilies and cilantro, known for its burst of flavors.\\n\\n**Mid-Morning Activity:**\\n\\n- **Visit the India Gate and Enjoy the surrounding gardens**. It’s a perfect opportunity to walk off your breakfast while taking in one of Delhi's historic landmarks.\\n\\n**Lunch:**\\n\\n- **Restaurant**: **Dilli Haat** — This open-air food plaza brings you an array of regional cuisines. Perfect for enjoying the sunny weather, Dilli Haat offers a variety of stalls that provide a taste tour across India's states.\\n  \\n- **Dish**: Try the **Rajasthani Laal Maas** or **Naga Thali**. These dishes showcase different spice profiles, presenting an opportunity to explore the diverse flavors of Indian cuisine right under the sun.\\n\\n**Afternoon Activity:**\\n\\n- **Explore Humayun's Tomb** or take a guided heritage walk in the Lodhi Gardens nearby. These are perfect spots to explore Delhi’s rich history and architecture under the pleasant sunshine.\\n\\n**Dinner:**\\n\\n- **Restaurant**: **Olive Bar & Kitchen** — Nestled in a historic British-colonial house with an enchanting courtyard, Olive Bar & Kitchen provides a romantic setting for an outdoor dining experience amidst fairy lights and elegant decor.\\n  \\n- **Dish**: Opt for the **Tandoori Octopus** or the **Lamb Kebabs with a twist**. The dishes here are crafted using authentic Indian flavors with a modern presentation. Pair your meal with some of their craft cocktails specially designed to complement the meal.\\n\\n**Evening Activity:**\\n\\n- **After Dinner Walk:** Stroll through the bustling **Hauz Khas Village**, known for its eclectic mix of art galleries, boutiques, and bars.\\n\\nConclude your day in Delhi by enjoying its vibrant nightlife or simply continue exploring charming outdoor places and gardens. This itinerary ensures you savor the best of Delhi's cuisine while enjoying the delightful sunny weather in beautiful settings.\", '**Mumbai Foodie Itinerary: A Sunny Day of Culinary Delights**\\n\\nWelcome to Mumbai, where vibrant flavors and warm, sunny weather create the perfect ambiance for a day of outdoor dining. Get ready for a bespoke foodie adventure as you explore the iconic dishes of Mumbai.\\n\\n**Breakfast:**\\n\\n*Restaurant:* **Prakash Shakahari Upahaar Kendra**\\n*Dish:* Start your day with a classic Marathi breakfast staple, Misal Pav. This spicy, sprouted lentil curry topped with crunchy farsan is served with soft bread rolls.\\n*Location:* Dadar\\n*Experience:* Enjoy your breakfast in the buzzing atmosphere of Dadar, where locals gather to savor this fiery dish, perfect for the sunny morning.\\n\\n**Mid-Morning Activity:**\\n\\nTake a stroll through the iconic Crawford Market, a bustling historic market where you can learn about the fresh produce and spices that make Mumbai\\'s cuisine so vibrant.\\n\\n**Lunch:**\\n\\n*Restaurant:* **Britannia & Co. Cafe**\\n*Dish:* Indulge in the famous Berry Pulao, a dish that beautifully marries Iranian and Parsi culinary influences, topped with tart barberries and succulent meat (or opt for the vegetarian version).\\n*Location:* Ballard Estate\\n*Experience:* Dine al-fresco on the charming colonial verandah, enjoying the heritage charm as you savor this delectable treat.\\n\\n**Afternoon Snack:**\\n\\nTry the city\\'s most beloved street food, Vada Pav, at **Anand Stall** near Mithibai College. This spicy potato fritter served in a bread bun is Mumbai\\'s answer to the hamburger, but with a distinctive local twist.\\n\\n**Dinner:**\\n\\n*Restaurant:* **Gadda Da Vida, Novotel Mumbai Juhu Beach**\\n*Dish:* As the sun sets, treat yourself to a sensational seafood feast with Prawns Koliwada, a spicy fried prawn dish, alongside Tandoori Pomfret, celebrated for its flavorful spices.\\n*Location:* Juhu Beach\\n*Experience:* Dine with your toes in the sand and a view of the Arabian Sea, as you enjoy Mumbai\\'s coastal offerings in the open-air dining space.\\n\\n**Dessert:**\\n\\nConclude your day with a visit to **K. Rustom\\'s Ice Cream Parlour** on Marine Drive for a unique ice cream sandwich, a beloved Mumbai classic, perfect for a sweet finish to your outdoor dining adventure.\\n\\n**Evening Activity:**\\n\\nAfter dinner, take a leisurely walk along Marine Drive, known as the \"Queen\\'s Necklace,\" to bask in the cool sea breeze and vibrant city lights, rounding out your perfect day of food in sunny Mumbai.\\n\\nEnjoy your culinary trip through the flavors of Mumbai, rain kissed by sunshine!']\n",
            "--------------------------------------------------\n",
            "Transition type:  finish\n",
            "Transition output:  {'foodie_tours': '**Delhi Gourmet Outdoor Foodie Itinerary**\\n\\n**Weather in Delhi: Sunny**  \\nEnjoy the beautiful sunny weather with alfresco dining options that let you bask in the vibrant Delhi atmosphere while savoring some of the city\\'s most iconic dishes. \\n\\n**Breakfast:**\\n\\n- **Restaurant**: **Indian Accent at The Lodhi** — Start your day at this elegant restaurant known for its inventive presentation of traditional Indian cuisine. Although primarily known for its fine dining, it offers a delightful breakfast on their outdoor terrace.\\n  \\n- **Dish**: Begin with a refreshing **Parsi Eggs** — a classic spicy scrambled eggs dish flavored with green chilies and cilantro, known for its burst of flavors.\\n\\n**Mid-Morning Activity:**\\n\\n- **Visit the India Gate and Enjoy the surrounding gardens**. It’s a perfect opportunity to walk off your breakfast while taking in one of Delhi\\'s historic landmarks.\\n\\n**Lunch:**\\n\\n- **Restaurant**: **Dilli Haat** — This open-air food plaza brings you an array of regional cuisines. Perfect for enjoying the sunny weather, Dilli Haat offers a variety of stalls that provide a taste tour across India\\'s states.\\n  \\n- **Dish**: Try the **Rajasthani Laal Maas** or **Naga Thali**. These dishes showcase different spice profiles, presenting an opportunity to explore the diverse flavors of Indian cuisine right under the sun.\\n\\n**Afternoon Activity:**\\n\\n- **Explore Humayun\\'s Tomb** or take a guided heritage walk in the Lodhi Gardens nearby. These are perfect spots to explore Delhi’s rich history and architecture under the pleasant sunshine.\\n\\n**Dinner:**\\n\\n- **Restaurant**: **Olive Bar & Kitchen** — Nestled in a historic British-colonial house with an enchanting courtyard, Olive Bar & Kitchen provides a romantic setting for an outdoor dining experience amidst fairy lights and elegant decor.\\n  \\n- **Dish**: Opt for the **Tandoori Octopus** or the **Lamb Kebabs with a twist**. The dishes here are crafted using authentic Indian flavors with a modern presentation. Pair your meal with some of their craft cocktails specially designed to complement the meal.\\n\\n**Evening Activity:**\\n\\n- **After Dinner Walk:** Stroll through the bustling **Hauz Khas Village**, known for its eclectic mix of art galleries, boutiques, and bars.\\n\\nConclude your day in Delhi by enjoying its vibrant nightlife or simply continue exploring charming outdoor places and gardens. This itinerary ensures you savor the best of Delhi\\'s cuisine while enjoying the delightful sunny weather in beautiful settings.\\n\\n======\\n\\n**Mumbai Foodie Itinerary: A Sunny Day of Culinary Delights**\\n\\nWelcome to Mumbai, where vibrant flavors and warm, sunny weather create the perfect ambiance for a day of outdoor dining. Get ready for a bespoke foodie adventure as you explore the iconic dishes of Mumbai.\\n\\n**Breakfast:**\\n\\n*Restaurant:* **Prakash Shakahari Upahaar Kendra**\\n*Dish:* Start your day with a classic Marathi breakfast staple, Misal Pav. This spicy, sprouted lentil curry topped with crunchy farsan is served with soft bread rolls.\\n*Location:* Dadar\\n*Experience:* Enjoy your breakfast in the buzzing atmosphere of Dadar, where locals gather to savor this fiery dish, perfect for the sunny morning.\\n\\n**Mid-Morning Activity:**\\n\\nTake a stroll through the iconic Crawford Market, a bustling historic market where you can learn about the fresh produce and spices that make Mumbai\\'s cuisine so vibrant.\\n\\n**Lunch:**\\n\\n*Restaurant:* **Britannia & Co. Cafe**\\n*Dish:* Indulge in the famous Berry Pulao, a dish that beautifully marries Iranian and Parsi culinary influences, topped with tart barberries and succulent meat (or opt for the vegetarian version).\\n*Location:* Ballard Estate\\n*Experience:* Dine al-fresco on the charming colonial verandah, enjoying the heritage charm as you savor this delectable treat.\\n\\n**Afternoon Snack:**\\n\\nTry the city\\'s most beloved street food, Vada Pav, at **Anand Stall** near Mithibai College. This spicy potato fritter served in a bread bun is Mumbai\\'s answer to the hamburger, but with a distinctive local twist.\\n\\n**Dinner:**\\n\\n*Restaurant:* **Gadda Da Vida, Novotel Mumbai Juhu Beach**\\n*Dish:* As the sun sets, treat yourself to a sensational seafood feast with Prawns Koliwada, a spicy fried prawn dish, alongside Tandoori Pomfret, celebrated for its flavorful spices.\\n*Location:* Juhu Beach\\n*Experience:* Dine with your toes in the sand and a view of the Arabian Sea, as you enjoy Mumbai\\'s coastal offerings in the open-air dining space.\\n\\n**Dessert:**\\n\\nConclude your day with a visit to **K. Rustom\\'s Ice Cream Parlour** on Marine Drive for a unique ice cream sandwich, a beloved Mumbai classic, perfect for a sweet finish to your outdoor dining adventure.\\n\\n**Evening Activity:**\\n\\nAfter dinner, take a leisurely walk along Marine Drive, known as the \"Queen\\'s Necklace,\" to bask in the cool sea breeze and vibrant city lights, rounding out your perfect day of food in sunny Mumbai.\\n\\nEnjoy your culinary trip through the flavors of Mumbai, rain kissed by sunshine!'}\n",
            "--------------------------------------------------\n"
          ]
        }
      ]
    }
  ]
}